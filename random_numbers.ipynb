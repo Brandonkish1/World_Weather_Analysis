{
 "cells": [
  {
   "cell_type": "code",
   "execution_count": 3,
   "id": "691aa4a8",
   "metadata": {},
   "outputs": [],
   "source": [
    "# Import the random module.\n",
    "import random"
   ]
  },
  {
   "cell_type": "code",
   "execution_count": 5,
   "id": "ff6ec573",
   "metadata": {},
   "outputs": [
    {
     "ename": "SyntaxError",
     "evalue": "invalid character in identifier (Temp/ipykernel_29116/3807638279.py, line 1)",
     "output_type": "error",
     "traceback": [
      "\u001b[1;36m  File \u001b[1;32m\"C:\\Users\\14134\\AppData\\Local\\Temp/ipykernel_29116/3807638279.py\"\u001b[1;36m, line \u001b[1;32m1\u001b[0m\n\u001b[1;33m    random.randint(–90, 90)\u001b[0m\n\u001b[1;37m                     ^\u001b[0m\n\u001b[1;31mSyntaxError\u001b[0m\u001b[1;31m:\u001b[0m invalid character in identifier\n"
     ]
    }
   ],
   "source": [
    "random.randint(–90, 90)"
   ]
  },
  {
   "cell_type": "code",
   "execution_count": 6,
   "id": "101d28e0",
   "metadata": {},
   "outputs": [],
   "source": [
    "x = 1\n",
    "latitudes = []\n",
    "while x < 11:\n",
    "    random_lat = random.randint(-90, 89) + random.random()\n",
    "    latitudes.append(random_lat)\n",
    "    x += 1"
   ]
  },
  {
   "cell_type": "code",
   "execution_count": 7,
   "id": "81ce67e2",
   "metadata": {},
   "outputs": [
    {
     "data": {
      "text/plain": [
       "[-18.22157816844569,\n",
       " -86.70247076348198,\n",
       " -64.80653758298398,\n",
       " 49.59276339908931,\n",
       " 10.686019809435097,\n",
       " 84.05775581499726,\n",
       " -5.953042772872157,\n",
       " 46.48478900895673,\n",
       " 13.951732899251317,\n",
       " 5.377782885522375]"
      ]
     },
     "execution_count": 7,
     "metadata": {},
     "output_type": "execute_result"
    }
   ],
   "source": [
    "latitudes"
   ]
  },
  {
   "cell_type": "code",
   "execution_count": 8,
   "id": "e25e0939",
   "metadata": {},
   "outputs": [],
   "source": [
    "# Import the NumPy module.\n",
    "import numpy as np"
   ]
  },
  {
   "cell_type": "code",
   "execution_count": 9,
   "id": "2e45b602",
   "metadata": {},
   "outputs": [
    {
     "data": {
      "text/plain": [
       "array([ 40.82142712,  70.44057077, -66.95928577, -30.64202045,\n",
       "        33.04559382, -85.20188032, -79.55954313,  21.10041485,\n",
       "        69.7133428 , -47.37064156,  51.99241682,  67.77903953,\n",
       "        57.30183441, -67.90242029, -79.23406108, -72.29547175,\n",
       "       -23.61023134, -61.05659332, -88.61219174, -58.9798892 ,\n",
       "       -75.73864231,  13.018995  , -30.55093228,   5.88437017,\n",
       "       -53.47417812, -10.79900545, -36.64873379,  69.92175126,\n",
       "       -60.46104421,  -5.01557179, -53.93967221,  30.56107136,\n",
       "        -7.08188845,  -8.75567214,  36.88341746,  17.78487025,\n",
       "        60.10924716, -82.01160515, -64.64285425,  58.26376847,\n",
       "         7.49778844,  49.11875574, -83.87376881, -44.7394673 ,\n",
       "        54.7659962 , -57.8780929 ,  69.37125781, -21.65162647,\n",
       "        48.85624375, -31.93466915])"
      ]
     },
     "execution_count": 9,
     "metadata": {},
     "output_type": "execute_result"
    }
   ],
   "source": [
    "np.random.uniform(-90.000, 90.000, size=50)"
   ]
  },
  {
   "cell_type": "code",
   "execution_count": 10,
   "id": "58eb344a",
   "metadata": {},
   "outputs": [],
   "source": [
    "# Import timeit.\n",
    "import timeit"
   ]
  },
  {
   "cell_type": "code",
   "execution_count": 11,
   "id": "580e2b76",
   "metadata": {},
   "outputs": [
    {
     "name": "stdout",
     "output_type": "stream",
     "text": [
      "11.5 µs ± 301 ns per loop (mean ± std. dev. of 7 runs, 100000 loops each)\n"
     ]
    }
   ],
   "source": [
    "%timeit np.random.uniform(-90.000, 90.000, size=1500)"
   ]
  },
  {
   "cell_type": "code",
   "execution_count": 12,
   "id": "07b64196",
   "metadata": {},
   "outputs": [
    {
     "name": "stdout",
     "output_type": "stream",
     "text": [
      "1.32 ms ± 21.3 µs per loop (mean ± std. dev. of 7 runs, 1000 loops each)\n"
     ]
    }
   ],
   "source": [
    "def latitudes(size):\n",
    "    latitudes = []\n",
    "    x = 0\n",
    "    while x < (size):\n",
    "        random_lat = random.randint(-90, 90) + random.random()\n",
    "        latitudes.append(random_lat)\n",
    "        x += 1\n",
    "    return latitudes\n",
    "# Call the function with 1500.\n",
    "%timeit latitudes(1500)"
   ]
  },
  {
   "cell_type": "code",
   "execution_count": null,
   "id": "9b00f5fb",
   "metadata": {},
   "outputs": [],
   "source": []
  }
 ],
 "metadata": {
  "kernelspec": {
   "display_name": "PythonData",
   "language": "python",
   "name": "pythondata"
  },
  "language_info": {
   "codemirror_mode": {
    "name": "ipython",
    "version": 3
   },
   "file_extension": ".py",
   "mimetype": "text/x-python",
   "name": "python",
   "nbconvert_exporter": "python",
   "pygments_lexer": "ipython3",
   "version": "3.7.11"
  }
 },
 "nbformat": 4,
 "nbformat_minor": 5
}
